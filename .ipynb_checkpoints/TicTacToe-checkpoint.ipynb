{
 "cells": [
  {
   "cell_type": "code",
   "execution_count": 29,
   "metadata": {},
   "outputs": [],
   "source": [
    "from IPython.display import clear_output\n",
    "\n",
    "def disp_board(board): # Denna functionen skapar själva spelplanen\n",
    "    clear_output()\n",
    "    \n",
    "    print('-------------')\n",
    "    print('| ' + board[7] + ' | ' + board[8] + ' | '+ board[9] + ' |')\n",
    "    print('-------------')\n",
    "    print('| ' + board[4] + ' | ' + board[5] + ' | '+ board[6] + ' |')\n",
    "    print('-------------')\n",
    "    print('| ' + board[1] + ' | ' + board[2] + ' | '+ board[3] + ' |')\n",
    "    print('-------------')\n",
    "    "
   ]
  },
  {
   "cell_type": "code",
   "execution_count": 31,
   "metadata": {},
   "outputs": [],
   "source": [
    "def welcome ():\n",
    "    print('Hello and welcome to this amazing game of tic-tac-toe made by Emma')\n",
    "\n",
    "    ready=input('Are you ready to play?')\n",
    "    if ready== 'yes' or ready=='YES' or ready=='y' or ready=='yeah' or ready=='JA' or ready=='Ja' or ready=='ja':\n",
    "        print(\"Good me too!\")\n",
    "        return True\n",
    "    else:\n",
    "        print('bye')\n",
    "        return False\n"
   ]
  },
  {
   "cell_type": "code",
   "execution_count": 32,
   "metadata": {},
   "outputs": [],
   "source": [
    " def spelgubbe():\n",
    "    \n",
    "    marker = input('Allright, Player1 do you want to be X or O ? ').upper()\n",
    "    while marker!= 'X' and marker!= 'O' :\n",
    "        marker = input('Try again, do you want to be X or O ? ').upper()\n",
    "    \n",
    "    \n",
    "    if marker == 'X' :\n",
    "        return('X','O')\n",
    "    else:\n",
    "        return('O','X')\n",
    "    "
   ]
  },
  {
   "cell_type": "code",
   "execution_count": 34,
   "metadata": {},
   "outputs": [],
   "source": [
    "def space_left(board,position):\n",
    "    \n",
    "    return board[position] == ' '\n",
    "    \n",
    "def check_full_board(board):\n",
    "    for i in range(1,10):\n",
    "        if space_left(board,i):\n",
    "            return False\n",
    "    return True\n",
    "    "
   ]
  },
  {
   "cell_type": "code",
   "execution_count": 35,
   "metadata": {},
   "outputs": [],
   "source": [
    "def players_choise(board):\n",
    "    position=0\n",
    "    while position not in list(map(str,[1,2,3,4,5,6,7,8,9,10])) or not space_left(board, int(position)):\n",
    "        position =input('Choose you position (1-9): ')\n",
    "    return int(position)"
   ]
  },
  {
   "cell_type": "code",
   "execution_count": 36,
   "metadata": {},
   "outputs": [],
   "source": [
    "def play_again():\n",
    "    \n",
    "    print ('GAME OVER')\n",
    "    return input('Do you want to play this game again?')"
   ]
  },
  {
   "cell_type": "code",
   "execution_count": 37,
   "metadata": {},
   "outputs": [],
   "source": [
    "def place_marker(board,marker,position):\n",
    "    board[position] = marker\n",
    "    \n",
    "    \n"
   ]
  },
  {
   "cell_type": "code",
   "execution_count": null,
   "metadata": {},
   "outputs": [],
   "source": [
    "\n",
    "def win_check(board,mark):\n",
    "    return ((board[1]==board[4]==board[7] == mark) or\n",
    "    (board[1]== board[2]==board[3] == mark) or\n",
    "    (board[1]==board[5]==board[9] == mark) or\n",
    "    (board[7]==board[8]==board[9] == mark) or\n",
    "    (board[7]==board[5]==board[3] == mark) or\n",
    "    (board[4]==board[5]==board[6] == mark) or\n",
    "    (board[8]==board[5]==board[2] == mark) or\n",
    "    (board[9]==board[6]==board[3] == mark) )\n"
   ]
  },
  {
   "cell_type": "code",
   "execution_count": null,
   "metadata": {},
   "outputs": [
    {
     "name": "stdout",
     "output_type": "stream",
     "text": [
      "Hello and welcome to this amazing game of tic-tac-toe made by Emma\n",
      "Are you ready to play?y\n",
      "Good me too!\n",
      "Allright, Player1 do you want to be X or O ? 8\n",
      "Try again, do you want to be X or O ? 8\n",
      "Try again, do you want to be X or O ? 8\n",
      "Try again, do you want to be X or O ? o\n",
      "check\n"
     ]
    }
   ],
   "source": [
    "if welcome():\n",
    "\n",
    "    board=[' ']*10\n",
    "    marker=spelgubbe()\n",
    "\n",
    "\n",
    "    while not win_check(board, marker) and not check_full_board(board):\n",
    "\n",
    "\n",
    "\n",
    "        for i in range(len(marker)):\n",
    "            position= players_choise(board)\n",
    "            place_marker(board,marker[i],position)\n",
    "            disp_board(board)\n",
    "\n",
    "            if win_check(board, marker[i]):\n",
    "                    disp_board(board)\n",
    "                    print('Congratulation you won the game')\n",
    "\n",
    "                    break\n",
    "            elif check_full_board(board):\n",
    "                    disp_board(board)\n",
    "                    print('GAME OVER. It is a tie!')\n",
    "\n",
    "                    break\n",
    "\n",
    "\n",
    "\n",
    "        \n",
    "        "
   ]
  },
  {
   "cell_type": "code",
   "execution_count": 12,
   "metadata": {},
   "outputs": [
    {
     "ename": "NameError",
     "evalue": "name 'm1' is not defined",
     "output_type": "error",
     "traceback": [
      "\u001b[1;31m---------------------------------------------------------------------------\u001b[0m",
      "\u001b[1;31mNameError\u001b[0m                                 Traceback (most recent call last)",
      "\u001b[1;32m<ipython-input-12-886e9b593f67>\u001b[0m in \u001b[0;36m<module>\u001b[1;34m()\u001b[0m\n\u001b[1;32m----> 1\u001b[1;33m \u001b[0mm1\u001b[0m\u001b[1;33m\u001b[0m\u001b[0m\n\u001b[0m\u001b[0;32m      2\u001b[0m \u001b[0marker\u001b[0m\u001b[1;33m\u001b[0m\u001b[0m\n",
      "\u001b[1;31mNameError\u001b[0m: name 'm1' is not defined"
     ]
    }
   ],
   "source": [
    "m1\n",
    "arker\n"
   ]
  },
  {
   "cell_type": "code",
   "execution_count": 13,
   "metadata": {},
   "outputs": [
    {
     "name": "stdout",
     "output_type": "stream",
     "text": [
      "Allright, Player1 do you want to be X or O ? o\n"
     ]
    }
   ],
   "source": [
    "marker=spelgubbe()"
   ]
  },
  {
   "cell_type": "code",
   "execution_count": 17,
   "metadata": {},
   "outputs": [
    {
     "data": {
      "text/plain": [
       "('X', 'O')"
      ]
     },
     "execution_count": 17,
     "metadata": {},
     "output_type": "execute_result"
    }
   ],
   "source": [
    "marker"
   ]
  },
  {
   "cell_type": "code",
   "execution_count": 20,
   "metadata": {},
   "outputs": [
    {
     "data": {
      "text/plain": [
       "tuple"
      ]
     },
     "execution_count": 20,
     "metadata": {},
     "output_type": "execute_result"
    }
   ],
   "source": [
    "type(marker)"
   ]
  },
  {
   "cell_type": "code",
   "execution_count": 21,
   "metadata": {},
   "outputs": [
    {
     "data": {
      "text/plain": [
       "'X'"
      ]
     },
     "execution_count": 21,
     "metadata": {},
     "output_type": "execute_result"
    }
   ],
   "source": [
    "marker[1]"
   ]
  },
  {
   "cell_type": "code",
   "execution_count": null,
   "metadata": {},
   "outputs": [],
   "source": []
  }
 ],
 "metadata": {
  "kernelspec": {
   "display_name": "Python 3",
   "language": "python",
   "name": "python3"
  },
  "language_info": {
   "codemirror_mode": {
    "name": "ipython",
    "version": 3
   },
   "file_extension": ".py",
   "mimetype": "text/x-python",
   "name": "python",
   "nbconvert_exporter": "python",
   "pygments_lexer": "ipython3",
   "version": "3.7.1"
  }
 },
 "nbformat": 4,
 "nbformat_minor": 2
}

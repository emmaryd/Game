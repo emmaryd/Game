{
 "cells": [
  {
   "cell_type": "code",
   "execution_count": 6,
   "metadata": {},
   "outputs": [],
   "source": [
    "from IPython.display import clear_output\n",
    "\n",
    "def disp_board(board): # Denna funktionen skapar själva spelplanen\n",
    "    clear_output()\n",
    "    \n",
    "    print('-------------')\n",
    "    print('| ' + board[7] + ' | ' + board[8] + ' | '+ board[9] + ' |')\n",
    "    print('-------------')\n",
    "    print('| ' + board[4] + ' | ' + board[5] + ' | '+ board[6] + ' |')\n",
    "    print('-------------')\n",
    "    print('| ' + board[1] + ' | ' + board[2] + ' | '+ board[3] + ' |')\n",
    "    print('-------------')\n",
    "    "
   ]
  },
  {
   "cell_type": "code",
   "execution_count": 7,
   "metadata": {},
   "outputs": [],
   "source": [
    "def welcome ():\n",
    "    print('Hello and welcome to this amazing game of tic-tac-toe made by Emma')\n",
    "\n",
    "    ready=input('Are you ready to play?')\n",
    "    if ready== 'yes' or ready=='YES' or ready=='y' or ready=='yeah' or ready=='JA' or ready=='Ja' or ready=='ja':\n",
    "        print(\"Good me too!\")\n",
    "        return True\n",
    "    else:\n",
    "        print('bye')\n",
    "        return False\n"
   ]
  },
  {
   "cell_type": "code",
   "execution_count": 8,
   "metadata": {},
   "outputs": [],
   "source": [
    " def spelgubbe():\n",
    "    \n",
    "    marker = input('Allright, Player1 do you want to be X or O ? ').upper()\n",
    "    while marker!= 'X' and marker!= 'O' :\n",
    "        marker = input('Try again, do you want to be X or O ? ').upper()\n",
    "    \n",
    "    \n",
    "    if marker == 'X' :\n",
    "        return('X','O')\n",
    "    else:\n",
    "        return('O','X')\n",
    "    "
   ]
  },
  {
   "cell_type": "code",
   "execution_count": 9,
   "metadata": {},
   "outputs": [],
   "source": [
    "def space_left(board,position):\n",
    "    \n",
    "    return board[position] == ' '\n",
    "    \n",
    "def check_full_board(board):\n",
    "    for i in range(1,10):\n",
    "        if space_left(board,i):\n",
    "            return False\n",
    "    return True\n",
    "    "
   ]
  },
  {
   "cell_type": "code",
   "execution_count": 10,
   "metadata": {},
   "outputs": [],
   "source": [
    "def players_choise(board,marker):\n",
    "    position=0\n",
    "    while position not in list(map(str,[1,2,3,4,5,6,7,8,9,10])) or not space_left(board, int(position)):\n",
    "        position =input('{0} Choose you position (1-9): '.format(marker))\n",
    "    return int(position)"
   ]
  },
  {
   "cell_type": "code",
   "execution_count": 11,
   "metadata": {},
   "outputs": [],
   "source": [
    "def play_again():\n",
    "    \n",
    "    print ('GAME OVER')\n",
    "    return input('Do you want to play this game again? (y/n)')"
   ]
  },
  {
   "cell_type": "code",
   "execution_count": 12,
   "metadata": {},
   "outputs": [],
   "source": [
    "def place_marker(board,marker,position):\n",
    "    board[position] = marker\n"
   ]
  },
  {
   "cell_type": "code",
   "execution_count": 13,
   "metadata": {},
   "outputs": [],
   "source": [
    "\n",
    "def win_check(board,mark):\n",
    "    return ((board[1]==board[4]==board[7] == mark) or\n",
    "    (board[1]== board[2]==board[3] == mark) or\n",
    "    (board[1]==board[5]==board[9] == mark) or\n",
    "    (board[7]==board[8]==board[9] == mark) or\n",
    "    (board[7]==board[5]==board[3] == mark) or\n",
    "    (board[4]==board[5]==board[6] == mark) or\n",
    "    (board[8]==board[5]==board[2] == mark) or\n",
    "    (board[9]==board[6]==board[3] == mark) )\n"
   ]
  },
  {
   "cell_type": "code",
   "execution_count": 14,
   "metadata": {},
   "outputs": [
    {
     "name": "stdout",
     "output_type": "stream",
     "text": [
      "-------------\n",
      "|   |   | O |\n",
      "-------------\n",
      "|   | X | O |\n",
      "-------------\n",
      "|   | X | O |\n",
      "-------------\n",
      "Congratulation you won the game\n",
      "O won the game!\n",
      "GAME OVER\n",
      "Do you want to play this game again? (y/n)n\n"
     ]
    }
   ],
   "source": [
    "def play():\n",
    "    if welcome():\n",
    "\n",
    "        board=[' ']*10\n",
    "        marker=spelgubbe()\n",
    "\n",
    "\n",
    "        while True:\n",
    "\n",
    "\n",
    "\n",
    "            for i in range(len(marker)):\n",
    "                position= players_choise(board,marker[i])\n",
    "                place_marker(board,marker[i],position)\n",
    "                disp_board(board)\n",
    "\n",
    "                if win_check(board, marker[i]):\n",
    "                        disp_board(board)\n",
    "                        print('Congratulation you won the game')\n",
    "\n",
    "                        return marker[i]\n",
    "                        \n",
    "                elif check_full_board(board):\n",
    "                        disp_board(board)\n",
    "                        print('GAME OVER. It is a tie!')\n",
    "\n",
    "                        return 'tie'\n",
    "\n",
    "\n",
    "while True:\n",
    "    \n",
    "    winning_player = play()\n",
    "    print('{0} won the game!'.format(winning_player))\n",
    "    if play_again()!='y':\n",
    "        break\n",
    "        \n",
    "        "
   ]
  }
 ],
 "metadata": {
  "kernelspec": {
   "display_name": "Python 3",
   "language": "python",
   "name": "python3"
  },
  "language_info": {
   "codemirror_mode": {
    "name": "ipython",
    "version": 3
   },
   "file_extension": ".py",
   "mimetype": "text/x-python",
   "name": "python",
   "nbconvert_exporter": "python",
   "pygments_lexer": "ipython3",
   "version": "3.7.1"
  }
 },
 "nbformat": 4,
 "nbformat_minor": 2
}

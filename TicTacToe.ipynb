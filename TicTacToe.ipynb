{
 "cells": [
  {
   "cell_type": "code",
   "execution_count": 2,
   "metadata": {},
   "outputs": [],
   "source": [
    "from IPython.display import clear_output\n",
    "\n",
    "def disp_board(board): # Denna functionen skapar själva spelplanen\n",
    "    clear_output()\n",
    "    \n",
    "    print('-------------')\n",
    "    print('| ' + board[7] + ' | ' + board[8] + ' | '+ board[9] + ' |')\n",
    "    print('-------------')\n",
    "    print('| ' + board[4] + ' | ' + board[5] + ' | '+ board[6] + ' |')\n",
    "    print('-------------')\n",
    "    print('| ' + board[1] + ' | ' + board[2] + ' | '+ board[3] + ' |')\n",
    "    print('-------------')\n",
    "    "
   ]
  },
  {
   "cell_type": "code",
   "execution_count": 3,
   "metadata": {},
   "outputs": [
    {
     "name": "stdout",
     "output_type": "stream",
     "text": [
      "-------------\n",
      "| X | O | X |\n",
      "-------------\n",
      "| X | O | X |\n",
      "-------------\n",
      "| X | O | X |\n",
      "-------------\n"
     ]
    }
   ],
   "source": [
    "\n",
    "test = ['#','X','O','X','X','O','X', 'X','O','X'] #en test spelplan kommer inte använda i spelet\n",
    "\n",
    "disp_board(test)\n"
   ]
  },
  {
   "cell_type": "code",
   "execution_count": 4,
   "metadata": {},
   "outputs": [],
   "source": [
    "def welcome ():\n",
    "    print('Hello and welcome to this amazing game of tic-tac-toe made by Emma')\n",
    "\n",
    "    ready=input('Are you ready to play?')\n",
    "    if ready== 'yes' or ready=='YES' or ready=='y' or ready=='yeah' or ready=='JA' or ready=='Ja' or ready=='ja':\n",
    "        print(\"Good me too!\")\n"
   ]
  },
  {
   "cell_type": "code",
   "execution_count": 5,
   "metadata": {},
   "outputs": [],
   "source": [
    " def spelgubbe():\n",
    "    \n",
    "    marker = input('Allright, Player1 do you want to be X or O ? ').upper()\n",
    "    while marker!= 'X' and marker!= 'O' :\n",
    "        marker = input('Try again, do you want to be X or O ? ').upper()\n",
    "    \n",
    "    \n",
    "    if marker == 'X' :\n",
    "        return('X','O')\n",
    "    else:\n",
    "        return('O','X')\n",
    "    "
   ]
  },
  {
   "cell_type": "code",
   "execution_count": 6,
   "metadata": {},
   "outputs": [],
   "source": [
    "import random\n",
    "def who_first():\n",
    "    tada=random.randint(0,1)\n",
    "    if tada==0:\n",
    "        return 'Player 1'\n",
    "    else:\n",
    "        return 'Player 2'\n",
    "    "
   ]
  },
  {
   "cell_type": "code",
   "execution_count": 7,
   "metadata": {},
   "outputs": [],
   "source": [
    "def space_left(board,position):\n",
    "    \n",
    "    return board[position] == ' '\n",
    "    \n",
    "def check_full_board(board):\n",
    "    for i in range(1,10):\n",
    "        if space_left(board,i):\n",
    "            return False\n",
    "    return True\n",
    "    "
   ]
  },
  {
   "cell_type": "code",
   "execution_count": 8,
   "metadata": {},
   "outputs": [],
   "source": [
    "def players_choise(board):\n",
    "    position=0\n",
    "    while position not in [1,2,3,4,5,6,7,8,9,10] : #or not space_left(board, position):\n",
    "        position =int(input('Choose you position (1-9): '))\n",
    "    return(position)"
   ]
  },
  {
   "cell_type": "code",
   "execution_count": 9,
   "metadata": {},
   "outputs": [],
   "source": [
    "def play_again():\n",
    "    \n",
    "    print ('GAME OVER')\n",
    "    return input('Do you want to play this game again?')"
   ]
  },
  {
   "cell_type": "code",
   "execution_count": 10,
   "metadata": {},
   "outputs": [],
   "source": [
    "def place_marker(board,marker,position):\n",
    "    board[position] = marker\n",
    "    \n",
    "    \n"
   ]
  },
  {
   "cell_type": "code",
   "execution_count": 11,
   "metadata": {},
   "outputs": [],
   "source": [
    "\n",
    "def win_check(board,mark):\n",
    "    print('check')\n",
    "    return ((board[1]==board[4]==board[7] == mark) or\n",
    "    (board[1]== board[2]==board[3] == mark) or\n",
    "    (board[1]==board[5]==board[9] == mark) or\n",
    "    (board[7]==board[8]==board[9] == mark) or\n",
    "    (board[7]==board[5]==board[3] == mark) or\n",
    "    (board[4]==board[5]==board[6] == mark) or\n",
    "    (board[8]==board[5]==board[2] == mark) or\n",
    "    (board[9]==board[6]==board[3] == mark) )\n"
   ]
  },
  {
   "cell_type": "code",
   "execution_count": null,
   "metadata": {},
   "outputs": [
    {
     "name": "stdout",
     "output_type": "stream",
     "text": [
      "-------------\n",
      "| O | X |   |\n",
      "-------------\n",
      "| X | O |   |\n",
      "-------------\n",
      "| X | O | O |\n",
      "-------------\n"
     ]
    }
   ],
   "source": [
    "welcome()\n",
    "board=[' ']*10\n",
    "marker=spelgubbe()\n",
    "\n",
    "while not win_check(board, marker) or not check_full_board(board):\n",
    "    for i in range(len(marker)):\n",
    "        position= players_choise(board)\n",
    "        place_marker(board,marker[i],position)\n",
    "        disp_board(board)\n",
    "       \n",
    "        if win_check(board, marker[i]):\n",
    "                print('Congratulation you won the game')\n",
    "                disp_board(board)\n",
    "        elif check_full_board(board):\n",
    "                print('GAME OVER. It is a tie!')\n",
    "                disp_board(board)\n",
    "        \n",
    "\n",
    "        \n",
    "        "
   ]
  },
  {
   "cell_type": "code",
   "execution_count": 12,
   "metadata": {},
   "outputs": [
    {
     "ename": "NameError",
     "evalue": "name 'm1' is not defined",
     "output_type": "error",
     "traceback": [
      "\u001b[1;31m---------------------------------------------------------------------------\u001b[0m",
      "\u001b[1;31mNameError\u001b[0m                                 Traceback (most recent call last)",
      "\u001b[1;32m<ipython-input-12-886e9b593f67>\u001b[0m in \u001b[0;36m<module>\u001b[1;34m()\u001b[0m\n\u001b[1;32m----> 1\u001b[1;33m \u001b[0mm1\u001b[0m\u001b[1;33m\u001b[0m\u001b[0m\n\u001b[0m\u001b[0;32m      2\u001b[0m \u001b[0marker\u001b[0m\u001b[1;33m\u001b[0m\u001b[0m\n",
      "\u001b[1;31mNameError\u001b[0m: name 'm1' is not defined"
     ]
    }
   ],
   "source": [
    "m1\n",
    "arker\n"
   ]
  },
  {
   "cell_type": "code",
   "execution_count": 13,
   "metadata": {},
   "outputs": [
    {
     "name": "stdout",
     "output_type": "stream",
     "text": [
      "Allright, Player1 do you want to be X or O ? o\n"
     ]
    }
   ],
   "source": [
    "marker=spelgubbe()"
   ]
  },
  {
   "cell_type": "code",
   "execution_count": 17,
   "metadata": {},
   "outputs": [
    {
     "data": {
      "text/plain": [
       "('X', 'O')"
      ]
     },
     "execution_count": 17,
     "metadata": {},
     "output_type": "execute_result"
    }
   ],
   "source": [
    "marker"
   ]
  },
  {
   "cell_type": "code",
   "execution_count": 20,
   "metadata": {},
   "outputs": [
    {
     "data": {
      "text/plain": [
       "tuple"
      ]
     },
     "execution_count": 20,
     "metadata": {},
     "output_type": "execute_result"
    }
   ],
   "source": [
    "type(marker)"
   ]
  },
  {
   "cell_type": "code",
   "execution_count": 21,
   "metadata": {},
   "outputs": [
    {
     "data": {
      "text/plain": [
       "'X'"
      ]
     },
     "execution_count": 21,
     "metadata": {},
     "output_type": "execute_result"
    }
   ],
   "source": [
    "marker[1]"
   ]
  },
  {
   "cell_type": "code",
   "execution_count": null,
   "metadata": {},
   "outputs": [],
   "source": []
  }
 ],
 "metadata": {
  "kernelspec": {
   "display_name": "Python 3",
   "language": "python",
   "name": "python3"
  },
  "language_info": {
   "codemirror_mode": {
    "name": "ipython",
    "version": 3
   },
   "file_extension": ".py",
   "mimetype": "text/x-python",
   "name": "python",
   "nbconvert_exporter": "python",
   "pygments_lexer": "ipython3",
   "version": "3.7.0"
  }
 },
 "nbformat": 4,
 "nbformat_minor": 2
}
